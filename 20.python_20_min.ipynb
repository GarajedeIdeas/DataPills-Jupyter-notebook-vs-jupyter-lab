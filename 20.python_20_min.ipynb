{
 "cells": [
  {
   "cell_type": "markdown",
   "id": "a693c713-6a33-4184-82cf-ce640f084be3",
   "metadata": {},
   "source": [
    "# Python en 20 mínutos: el camino hacia el análisis de datos"
   ]
  },
  {
   "cell_type": "markdown",
   "id": "bdbdf29b-5db1-47ff-ae14-34973c2fcf9b",
   "metadata": {},
   "source": [
    "## Python como una calculadora\n",
    "Cualquier lenguaje de programación puede utilizarse como una calculadora.\n",
    "\n",
    "Realizar **operaciones** aritméticas con Python es muy sencillo. Únicamente tenemos que utilizar el operador adecuado:\n",
    "\n",
    "* Suma: `+`\n",
    "* Resta: `-`\n",
    "* Multiplicación: `*`\n",
    "* División: `/`\n",
    "* División entera: `//`\n",
    "* Potenciación: `**`\n",
    "* Módulo (el resto de una división): `%`\n"
   ]
  },
  {
   "cell_type": "code",
   "execution_count": null,
   "id": "9fe33552-b8eb-4274-8c80-fc63523e6b19",
   "metadata": {
    "tags": []
   },
   "outputs": [],
   "source": [
    "4 + 4"
   ]
  },
  {
   "cell_type": "code",
   "execution_count": null,
   "id": "c216c40f-81a9-4323-a3b8-bc70167d8904",
   "metadata": {
    "tags": []
   },
   "outputs": [],
   "source": [
    "4 * 3"
   ]
  },
  {
   "cell_type": "code",
   "execution_count": null,
   "id": "d474f9c2-e8a6-4085-987a-7f4825a092dd",
   "metadata": {
    "tags": []
   },
   "outputs": [],
   "source": [
    "3 +3 - 2"
   ]
  },
  {
   "cell_type": "markdown",
   "id": "88aca8e1-37a5-4283-9e2a-255b132d838c",
   "metadata": {},
   "source": [
    "## Variables\n",
    "Como en la mayoría de lenguajes, en Python solemos querer ponerle nombre a las variables, números, strings y demás objetos que creamos. La manera de hacerlo es a través de la asignación. Tan sencillo como utilizar el signo \"=\" :"
   ]
  },
  {
   "cell_type": "code",
   "execution_count": null,
   "id": "ec898894-383f-4a78-b5a6-0d1c0c97b3b3",
   "metadata": {
    "tags": []
   },
   "outputs": [],
   "source": [
    "x = 10\n",
    "nombre = 'javier'"
   ]
  },
  {
   "cell_type": "code",
   "execution_count": null,
   "id": "1bec339b-7e4b-4e9c-8926-09e5dc8e3ac8",
   "metadata": {
    "tags": []
   },
   "outputs": [],
   "source": [
    "#El IMC se calcula dividiendo el peso en kilogramos por el cuadrado de la estatura en metros\n",
    "peso = 70\n",
    "altura = 1.70\n",
    "imc = peso / altura ** 2\n",
    "imc"
   ]
  },
  {
   "cell_type": "markdown",
   "id": "f8693522-a559-4ffa-b911-5bb8deec571a",
   "metadata": {},
   "source": [
    "## Funciones "
   ]
  },
  {
   "cell_type": "markdown",
   "id": "97baffa9-17d4-4477-90a8-b62616a442eb",
   "metadata": {},
   "source": [
    "Las inmensa totalidad de las funcionales en Python las realizamos a través de las funciones."
   ]
  },
  {
   "cell_type": "code",
   "execution_count": null,
   "id": "a146f34b-7883-4315-9df5-3d87421dff11",
   "metadata": {
    "tags": []
   },
   "outputs": [],
   "source": [
    "print('me llamo javier')"
   ]
  },
  {
   "cell_type": "code",
   "execution_count": null,
   "id": "5eed661d-2dda-43a4-9e6a-fda4814ebcb0",
   "metadata": {
    "tags": []
   },
   "outputs": [],
   "source": [
    "round(imc, 3)"
   ]
  },
  {
   "cell_type": "markdown",
   "id": "130bbf48-65c1-4f4c-a101-6db6f91ae925",
   "metadata": {},
   "source": [
    "## Tipos de datos en Python\n",
    "Existen una cantidad enorme de tipos de dato en Python. Los propios usuarios pueden crear nuevos tipos de datos a través de las clases (¡y de las clases que han creado otras personas en la infinidad de bibliotecas que hay para Python!). No obstante, existen una serie de tipos básicos, que vienen ya integrados en Python.\n",
    "\n",
    "* Integers: números enteros **(int)** \n",
    "\n",
    "* Float: Números decimales **(float)**\n",
    "\n",
    "* String : las variables que contienen texto. También conocidas como variables **(str)**\n",
    "\n",
    "* Lógicas: las variables que contienen valores True o False **(bool)**\n",
    "\n",
    "\n",
    "La función **type()** **nos permite ver qué tipo de dato es el objeto que pasamos:"
   ]
  },
  {
   "cell_type": "code",
   "execution_count": null,
   "id": "7a85c268-0349-43a0-a574-d51d78d5f589",
   "metadata": {
    "tags": []
   },
   "outputs": [],
   "source": [
    "print(7)\n",
    "print(7.1235)\n",
    "print(\"7\")\n",
    "print(True)"
   ]
  },
  {
   "cell_type": "code",
   "execution_count": null,
   "id": "e9f48fb1-492f-4060-8d24-c358c85bde88",
   "metadata": {
    "tags": []
   },
   "outputs": [],
   "source": [
    "print(type(7))\n",
    "print(type(7.1235))\n",
    "print(type(\"7\"))\n",
    "print(type(False))"
   ]
  },
  {
   "cell_type": "markdown",
   "id": "e89943d7-8dbd-4d5b-9a79-ca8a525095b4",
   "metadata": {},
   "source": [
    "## Colecciones en Python\n",
    "Por lo general, se considera una colección a una estructura o tipo de dato que dentro contiene otros elementos.\n",
    "\n",
    "En Python, consideramos colecciones a cualquier objeto que es iterable, es decir: que podemos iterar por él (normalmente con un for). De hecho, los strings pueden considerarse como un tipo de colección, ya que, como ya hemos visto podemos iterar por sus caractéres"
   ]
  },
  {
   "cell_type": "code",
   "execution_count": null,
   "id": "d8d3c338-a411-4c1c-9cd7-98fa5554c5e9",
   "metadata": {
    "tags": []
   },
   "outputs": [],
   "source": [
    "string = 'me encanta La pizza'\n",
    "for caracter in string:\n",
    "    print(caracter.upper() , \"!!\")\n",
    "\n",
    "        "
   ]
  },
  {
   "cell_type": "markdown",
   "id": "bf2ffc3a-ef1f-41dd-92cf-a5390d5cd668",
   "metadata": {},
   "source": [
    "Además de los strings, existen otras estructuras de datos en la familia de las colecciones. Las principales son **las listas, las tuplas, los sets y los diccionarios.**"
   ]
  },
  {
   "cell_type": "markdown",
   "id": "1707cc30-0b8c-4356-a84f-3d2036072386",
   "metadata": {},
   "source": [
    "### Listas"
   ]
  },
  {
   "cell_type": "code",
   "execution_count": null,
   "id": "9de4111b-5b44-4b93-8183-9ff2050f1dcc",
   "metadata": {
    "tags": []
   },
   "outputs": [],
   "source": [
    "lista_numerica = [1,4,6,102,1.4]\n",
    "lista_numerica"
   ]
  },
  {
   "cell_type": "code",
   "execution_count": null,
   "id": "5280bcf9-7f1b-4839-846e-5c15685723af",
   "metadata": {
    "tags": []
   },
   "outputs": [],
   "source": [
    "lista = ['1',5,4.2,True]"
   ]
  },
  {
   "cell_type": "code",
   "execution_count": null,
   "id": "3464b9e4-cce1-42df-9b36-b7866a8b3d9a",
   "metadata": {
    "scrolled": true,
    "tags": []
   },
   "outputs": [],
   "source": [
    "lista_ciudad = ['barcelona','sevilla','badajoz','zamora']\n",
    "print(lista_ciudad[2])\n",
    "print(lista_ciudad[1:3])"
   ]
  },
  {
   "cell_type": "code",
   "execution_count": null,
   "id": "9741ebbd-1374-4b8e-b4e1-1a6301f730ad",
   "metadata": {
    "tags": []
   },
   "outputs": [],
   "source": [
    "for ciudad in lista_ciudad:\n",
    "    if ciudad =='badajoz':\n",
    "        print(ciudad, 'es mi ciudad favorita')\n",
    "    else:\n",
    "        print(ciudad, 'tampoco está mal')"
   ]
  },
  {
   "cell_type": "markdown",
   "id": "74891b63-b4b6-413d-9638-3825f45db7e0",
   "metadata": {},
   "source": [
    "### Diccionarios\n",
    "Los diccionarios de Python son una secuencia ordenada y mutable de claves y valores. Son una estructura de dato muy pontente. Se definen con llaves { }, y sus elementos se escriben de la forma clave:valor, y separados por comas ,:\n"
   ]
  },
  {
   "cell_type": "code",
   "execution_count": null,
   "id": "68495e0b-e5f8-4c55-8903-d774897446ab",
   "metadata": {
    "tags": []
   },
   "outputs": [],
   "source": [
    "primer_diccionario = {\"persona\":'rosa',\n",
    "                      \"comida\":'pasta',\n",
    "                      \"animal\":'elefante', \n",
    "                      'numero':'6'\n",
    "                      }\n"
   ]
  },
  {
   "cell_type": "code",
   "execution_count": null,
   "id": "9637bb5f-ec9c-4f6a-a9a9-232e74b0b6e6",
   "metadata": {
    "tags": []
   },
   "outputs": [],
   "source": [
    "primer_diccionario['comida']"
   ]
  },
  {
   "cell_type": "code",
   "execution_count": null,
   "id": "e2b8701b-5d87-4c3c-841c-fde047001fa4",
   "metadata": {
    "tags": []
   },
   "outputs": [],
   "source": [
    "primer_diccionario['pais'] = 'senegal'"
   ]
  },
  {
   "cell_type": "code",
   "execution_count": null,
   "id": "13794d9c-9d29-4b80-8ce7-491f03270ef6",
   "metadata": {
    "tags": []
   },
   "outputs": [],
   "source": [
    "primer_diccionario"
   ]
  },
  {
   "cell_type": "markdown",
   "id": "1080f8a4-6957-417e-bdc2-87201070b299",
   "metadata": {
    "tags": []
   },
   "source": [
    "## Bibliotecas: un infinito mundo de funciones\n",
    "En esencia, las bibliotecas son código (funciones y clases) que hacen cosas útiles, y que alguien ha escrito para que nosotros no tengamos que hacerlo.\n",
    "\n",
    "Principalmente, hay dos sitios donde podemos ir a buscar bibliotecas que nos sean útiles para nuestros propósitos:\n",
    "\n",
    "* La Biblioteca Estándar de Python [Python's Standard Library](https://docs.python.org/3/library/) contiene todo lo que hemos visto hasta ahora, y muchísimo más. Vienen disponibles con nuestra instalación de Python: al ser biblioteca estándar, nos vale con tener Python instalado. No tenemos que irnos a internet a descargar e instalar nada más.\n",
    "\n",
    "* Bibliotecas de terceros: Internet está plagado de bibliotecas escritas en Python para hacer prácticamente todo lo que te puedas imaginar. Eso sí: tendremos que descargar e instalarlas. El Python Package Index o PyPI es el repositorio de software oficial para aplicaciones de terceros en el lenguaje de programación Python.\n",
    "\n",
    "\n",
    "\n",
    "\n",
    "\n",
    "\n"
   ]
  },
  {
   "cell_type": "code",
   "execution_count": null,
   "id": "3357b1e9-0263-41d3-9393-3bb3de209236",
   "metadata": {
    "tags": []
   },
   "outputs": [],
   "source": [
    "import math\n",
    "math.sqrt(25)"
   ]
  },
  {
   "cell_type": "markdown",
   "id": "1107c049-37a0-4c73-b454-ef1851edb3fb",
   "metadata": {},
   "source": [
    "## Analizando datos con pandas"
   ]
  },
  {
   "cell_type": "code",
   "execution_count": null,
   "id": "d82989ba-d554-42db-a1bd-515b585f80c5",
   "metadata": {
    "tags": []
   },
   "outputs": [],
   "source": [
    "import pandas as pd"
   ]
  },
  {
   "cell_type": "code",
   "execution_count": null,
   "id": "090bf816-aff5-4004-9ce2-50c852ac82aa",
   "metadata": {
    "tags": []
   },
   "outputs": [],
   "source": [
    "diccionario = {\n",
    "    \"nombre\": [\"Julio\", \"Nuria\", \"Jose\", \"Luis\", \"Nuria\",\"Daniel\", \"Javier\",'Elisa','Sofía','Carlos','Nuria'],\n",
    "    \"edad\": [ 22, 14, 22, 80, 14, 7, 32, 48, 17, 72, 26],\n",
    "    \"sexo\": [\"M\", \"F\",\"M\",\"M\",\"F\",\"M\",\"F\", 'F','F','M','F'],\n",
    "}\n",
    "\n",
    "gente = pd.DataFrame(diccionario)\n",
    "gente"
   ]
  },
  {
   "cell_type": "code",
   "execution_count": null,
   "id": "78eb3dcb-5d08-4a2a-94b0-35743e28f273",
   "metadata": {
    "tags": []
   },
   "outputs": [],
   "source": [
    "titanic = pd.read_csv('https://raw.githubusercontent.com/mwaskom/seaborn-data/master/titanic.csv')"
   ]
  },
  {
   "cell_type": "code",
   "execution_count": null,
   "id": "c5bfd46e-c2b4-4843-bedd-894a86ae18a7",
   "metadata": {
    "tags": []
   },
   "outputs": [],
   "source": [
    "titanic"
   ]
  },
  {
   "cell_type": "code",
   "execution_count": null,
   "id": "47fc2ad0-7489-4c3c-9ddc-509e46a135c7",
   "metadata": {
    "tags": []
   },
   "outputs": [],
   "source": [
    "titanic.info()"
   ]
  },
  {
   "cell_type": "code",
   "execution_count": null,
   "id": "0ba97931-f043-4b58-917b-ec71b5ab4798",
   "metadata": {
    "tags": []
   },
   "outputs": [],
   "source": [
    "titanic.describe()"
   ]
  },
  {
   "cell_type": "code",
   "execution_count": null,
   "id": "3a02a567-9ff7-452d-b054-1eba44d36994",
   "metadata": {
    "tags": []
   },
   "outputs": [],
   "source": [
    "titanic.sort_values(by='age', ascending=False)"
   ]
  },
  {
   "cell_type": "code",
   "execution_count": null,
   "id": "22b02b83-1f47-46d4-a524-5865c0bfc208",
   "metadata": {
    "tags": []
   },
   "outputs": [],
   "source": [
    "titanic['class'].value_counts()"
   ]
  },
  {
   "cell_type": "code",
   "execution_count": null,
   "id": "b1675de9-d9eb-4ed9-a4ea-a794911f591d",
   "metadata": {
    "tags": []
   },
   "outputs": [],
   "source": [
    "third_class = titanic[titanic['class']=='Third']\n",
    "third_class"
   ]
  },
  {
   "cell_type": "markdown",
   "id": "fae82c3c-c7df-40b5-9ded-4cc964489aa0",
   "metadata": {},
   "source": [
    "## Visualizando datos\n"
   ]
  },
  {
   "cell_type": "code",
   "execution_count": null,
   "id": "1e74e394-9461-4f80-baab-42c2194131de",
   "metadata": {
    "tags": []
   },
   "outputs": [],
   "source": [
    "import matplotlib.pyplot as plt"
   ]
  },
  {
   "cell_type": "code",
   "execution_count": null,
   "id": "56b77622-763c-4f4d-b674-9a03bf9a093f",
   "metadata": {
    "tags": []
   },
   "outputs": [],
   "source": [
    "plt.hist(titanic['age'], bins =10) \n",
    " \n",
    "plt.xlabel(\"Edad\")\n",
    "plt.title(\"Histograma de la edad de los pasajeros del Titanic\")\n",
    "plt.show()"
   ]
  },
  {
   "cell_type": "code",
   "execution_count": null,
   "id": "4e5b0fc0-375f-427d-aad2-b02dee329d8a",
   "metadata": {
    "tags": []
   },
   "outputs": [],
   "source": [
    "plt.style.use('seaborn')\n",
    "plt.hist(titanic['age'], bins =10) \n",
    " \n",
    "plt.xlabel(\"Edad\")\n",
    "plt.title(\"Histograma de la edad de los pasajeros del Titanic\")\n",
    "plt.show()"
   ]
  },
  {
   "cell_type": "code",
   "execution_count": null,
   "id": "97e2311c-3f2c-4d06-8140-5d9dcd0a2d43",
   "metadata": {},
   "outputs": [],
   "source": []
  }
 ],
 "metadata": {
  "kernelspec": {
   "display_name": "Python 3 (ipykernel)",
   "language": "python",
   "name": "python3"
  },
  "language_info": {
   "codemirror_mode": {
    "name": "ipython",
    "version": 3
   },
   "file_extension": ".py",
   "mimetype": "text/x-python",
   "name": "python",
   "nbconvert_exporter": "python",
   "pygments_lexer": "ipython3",
   "version": "3.11.5"
  }
 },
 "nbformat": 4,
 "nbformat_minor": 5
}
